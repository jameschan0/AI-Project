{
  "nbformat": 4,
  "nbformat_minor": 0,
  "metadata": {
    "colab": {
      "private_outputs": true,
      "provenance": [],
      "authorship_tag": "ABX9TyNKK6QAhlZSth7G19qmjIqL",
      "include_colab_link": true
    },
    "kernelspec": {
      "name": "python3",
      "display_name": "Python 3"
    },
    "language_info": {
      "name": "python"
    },
    "accelerator": "GPU",
    "gpuClass": "standard"
  },
  "cells": [
    {
      "cell_type": "markdown",
      "metadata": {
        "id": "view-in-github",
        "colab_type": "text"
      },
      "source": [
        "<a href=\"https://colab.research.google.com/github/jameschan0/AI-Project/blob/main/%E5%8D%B7%E7%A9%8D%E7%A5%9E%E7%B6%93%E7%B6%B2%E8%B7%AF.ipynb\" target=\"_parent\"><img src=\"https://colab.research.google.com/assets/colab-badge.svg\" alt=\"Open In Colab\"/></a>"
      ]
    },
    {
      "cell_type": "code",
      "execution_count": null,
      "metadata": {
        "id": "TL_KEyTQyZ0v"
      },
      "outputs": [],
      "source": [
        "import torch\n",
        "import torch.nn as nn\n",
        "import torchvision\n",
        "import torchvision.transforms as transforms\n",
        "import torch.nn.functional as F\n",
        "device = torch.device(\"cuda\" if torch.cuda.is_available() else \"cpu\")\n",
        "train_dataset = torchvision.datasets.MNIST(root='./data', train=True, transform=transforms.ToTensor(), download=True)\n",
        "test_dataset = torchvision.datasets.MNIST(root='./data', train=False, transform=transforms.ToTensor(), download=True)\n",
        "# hyperparamter\n",
        "BATCH_SIZE = 128\n",
        "num_classes = 10\n",
        "epochs = 10\n",
        "learning_rate = 1e-4 # 0.0001\n",
        "train_loader = torch.utils.data.DataLoader(dataset=train_dataset, batch_size = BATCH_SIZE, shuffle = True)\n",
        "test_loader = torch.utils.data.DataLoader(dataset=test_dataset, batch_size = BATCH_SIZE, shuffle = False)\n",
        "import numpy as np\n",
        "import matplotlib.pyplot as plt\n",
        "iterator = iter(train_loader)\n",
        "images, labels = next(iterator)\n",
        "fig, axes = plt.subplots(1,20, figsize=(15, 15))\n",
        "for i in range(20):\n",
        "  axes[i].imshow(images[i][0], cmap = 'gray')\n",
        "  axes[i].set_axis_off()\n",
        "fig.show()"
      ]
    },
    {
      "cell_type": "code",
      "source": [
        "class Convnet(nn.Module):\n",
        "  def __init__(self):\n",
        "    super().__init__()\n",
        "    self.conv1=nn.Conv2d(in_channels=1,out_channels=16,kernel_size=3,stride=1,padding=1)#16,28,28\n",
        "    self.conv2=nn.Conv2d(in_channels=16,out_channels=16,kernel_size=3,stride=1,padding=1)\n",
        "    self.pool1=nn.MaxPool2d(2,2)#16,14,14\n",
        "    self.conv3=nn.Conv2d(in_channels=16,out_channels=32,kernel_size=3,stride=1,padding=1)#32,14,14\n",
        "    self.conv4=nn.Conv2d(in_channels=32,out_channels=32,kernel_size=3,stride=1,padding=1)\n",
        "    self.pool2=nn.MaxPool2d(2,2)#32,7,7\n",
        "    self.fc1=nn.Linear(32*7*7,10)\n",
        "  def forward(self, x):\n",
        "    x1=F.relu(self.conv1(x))\n",
        "    x2=F.relu(self.conv2(x1))\n",
        "    x3=self.pool1(x2)\n",
        "    x4=F.relu(self.conv3(x3))\n",
        "    x5=F.relu(self.conv4(x4))\n",
        "    x6=self.pool2(x5)\n",
        "    x6=x6.view(-1,32*7*7)\n",
        "    output=self.fc1(x6)\n",
        "    return output"
      ],
      "metadata": {
        "id": "v8yzjJ6Z5GwL"
      },
      "execution_count": null,
      "outputs": []
    },
    {
      "cell_type": "code",
      "source": [
        "cnn = Convnet().to(device)\n",
        "print(cnn)\n",
        "criterion = nn.CrossEntropyLoss()\n",
        "optimizer = torch.optim.Adam(cnn.parameters(), lr=learning_rate)"
      ],
      "metadata": {
        "id": "R8t9YHEvCXfO"
      },
      "execution_count": null,
      "outputs": []
    },
    {
      "cell_type": "code",
      "source": [
        "# training loop\n",
        "total_steps = len(train_loader)\n",
        "for epoch in range(epochs):\n",
        "  for i, (images, labels) in enumerate(train_loader):\n",
        "    # batch.size 1 28 28\n",
        "    images = images.to(device)\n",
        "    labels = labels.to(device)\n",
        "\n",
        "    # forward\n",
        "    outputs = cnn(images)\n",
        "    loss = criterion(outputs, labels)\n",
        "\n",
        "    # backward\n",
        "    optimizer.zero_grad()\n",
        "    loss.backward()\n",
        "    optimizer.step()\n",
        "\n",
        "    if (i+1) % 100 == 0:\n",
        "      print (f'Epoch {epoch+1}, Step [{i+1}/{total_steps}], Loss: {loss.item():.4f}')"
      ],
      "metadata": {
        "id": "rsM7SoO6CZC6"
      },
      "execution_count": null,
      "outputs": []
    },
    {
      "cell_type": "code",
      "source": [
        "# test\n",
        "with torch.no_grad():\n",
        "    n_correct = 0\n",
        "    n_samples = 0\n",
        "    for images, labels in test_loader:\n",
        "        images = images.to(device)\n",
        "        labels = labels.to(device)\n",
        "        outputs = cnn(images)\n",
        "        # max returns (value ,index)\n",
        "        _, predicted = torch.max(outputs, 1)\n",
        "        n_samples += labels.size(0)\n",
        "        n_correct += (predicted == labels).sum().item()\n",
        "    acc = 100.0 * n_correct / n_samples\n",
        "    print(f'Accuracy of the network on the 10000 test images: {acc} %')\n"
      ],
      "metadata": {
        "id": "P0-2NjcOCiS0"
      },
      "execution_count": null,
      "outputs": []
    }
  ]
}